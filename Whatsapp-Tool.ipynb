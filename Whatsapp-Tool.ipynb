{
 "cells": [
  {
   "cell_type": "markdown",
   "id": "62019468",
   "metadata": {},
   "source": [
    "## Modules"
   ]
  },
  {
   "cell_type": "code",
   "execution_count": 1,
   "id": "cf8dfeff",
   "metadata": {},
   "outputs": [],
   "source": [
    "import os\n",
    "import pandas as pd\n",
    "import tkinter as tk\n",
    "from tkinter import ttk, messagebox, filedialog\n",
    "from selenium import webdriver\n",
    "from tkinter import messagebox, filedialog, ttk\n",
    "from tkinter import font as tkfont\n",
    "from selenium.webdriver.chrome.service import Service\n",
    "from selenium.webdriver.chrome.options import Options\n",
    "from selenium.webdriver.common.by import By\n",
    "from selenium.webdriver.support.ui import WebDriverWait\n",
    "from selenium.webdriver.support import expected_conditions as EC\n",
    "from selenium.common.exceptions import (\n",
    "    NoSuchElementException, TimeoutException, ElementClickInterceptedException,\n",
    "    StaleElementReferenceException, ElementNotInteractableException\n",
    ")\n",
    "from selenium.webdriver.common.action_chains import ActionChains\n",
    "from webdriver_manager.chrome import ChromeDriverManager\n",
    "from datetime import datetime\n",
    "import time\n",
    "from threading import Thread\n",
    "from selenium.webdriver.common.keys import Keys\n",
    "from google.oauth2.service_account import Credentials\n",
    "import gspread"
   ]
  },
  {
   "cell_type": "markdown",
   "id": "be18bd22",
   "metadata": {},
   "source": [
    "## Variables"
   ]
  },
  {
   "cell_type": "code",
   "execution_count": 2,
   "id": "586239be",
   "metadata": {},
   "outputs": [],
   "source": [
    "driver = None\n",
    "is_scraping = False\n",
    "filename = \"Whatsapp_Data.xlsx\""
   ]
  },
  {
   "cell_type": "markdown",
   "id": "5944605c",
   "metadata": {},
   "source": [
    "## GoogelSheet Credentials"
   ]
  },
  {
   "cell_type": "code",
   "execution_count": 3,
   "id": "63f260bf",
   "metadata": {},
   "outputs": [],
   "source": [
    "json_path = \"C:\\\\Users\\\\Khaled\\\\Downloads\\\\scraping-googel.json\"\n",
    "scope = [\"https://www.googleapis.com/auth/spreadsheets\", \"https://www.googleapis.com/auth/drive\"]\n",
    "creds = Credentials.from_service_account_file(json_path, scopes=scope)\n",
    "client = gspread.authorize(creds)\n",
    "spreadsheet_id = \"1k8LBR4HfjMW2gtJc-BefthtBW2i1S4-JXjY415NeMBI\"\n",
    "sheet = client.open_by_key(spreadsheet_id).sheet1\n",
    "data = sheet.get_all_records()\n",
    "credentials = {entry[\"Username\"]: str(entry[\"Password\"]) for entry in data}"
   ]
  },
  {
   "cell_type": "markdown",
   "id": "8a308996",
   "metadata": {},
   "source": [
    "## Check log-in"
   ]
  },
  {
   "cell_type": "code",
   "execution_count": 4,
   "id": "21dbc4d5",
   "metadata": {},
   "outputs": [],
   "source": [
    "def verify_login():\n",
    "    username = username_entry.get()\n",
    "    password = password_entry.get()\n",
    "    if username in credentials and credentials[username] == password:\n",
    "        messagebox.showinfo(\"Login Success\", \"Welcome!\")\n",
    "        login_frame.pack_forget()\n",
    "        scraper_frame.pack(fill=\"both\", expand=True)\n",
    "        \n",
    "        \n",
    "        \n",
    "        # Change geometry after successful login\n",
    "        window_width = 600\n",
    "        window_height = 550\n",
    "        screen_width = root.winfo_screenwidth()\n",
    "        screen_height = root.winfo_screenheight()\n",
    "\n",
    "        # Calculate the position to center the window\n",
    "        x = (screen_width // 2) - (window_width // 2)\n",
    "        y = (screen_height // 2) - (window_height // 2)\n",
    "\n",
    "        # Set the initial window position and size\n",
    "        root.geometry(f\"{window_width}x{window_height}+{x}+{y}\")\n",
    "        root.resizable(False, False)  # Lock the window size to prevent resizing\n",
    "    else:\n",
    "        messagebox.showerror(\"Login Failed\", \"Invalid Username or Password\")"
   ]
  },
  {
   "cell_type": "markdown",
   "id": "73f67dda",
   "metadata": {},
   "source": [
    "## Extract Messages"
   ]
  },
  {
   "cell_type": "code",
   "execution_count": 5,
   "id": "66c9e61e",
   "metadata": {},
   "outputs": [],
   "source": [
    "def extract_messages(driver, chat_name, unread_count):\n",
    "    \"\"\"Extract unread messages by scrolling the chat window.\"\"\"\n",
    "    chat_data = []\n",
    "    processed_messages = set()\n",
    "    scroll_attempts = 0  # Limit the number of scroll attempts to prevent infinite loops\n",
    "    sleep_time = get_sleep_time()    \n",
    "    try:\n",
    "        chat_window = WebDriverWait(driver, 10).until(\n",
    "            EC.presence_of_element_located((By.CSS_SELECTOR, 'div.x3psx0u.xwib8y2.xkhd6sd.xrmvbpv'))\n",
    "        )\n",
    "        \n",
    "        \n",
    "            \n",
    "            \n",
    "        while len(chat_data) < unread_count and scroll_attempts < 5:\n",
    "            try:\n",
    "                message_rows = driver.find_elements(By.CSS_SELECTOR, 'div[role=\"row\"]')\n",
    "                log_message(f\"Found {len(message_rows)} messages in view.\")\n",
    "\n",
    "                new_messages_found = False\n",
    "\n",
    "                for message_row in message_rows:\n",
    "                    try:\n",
    "                        phone_number = message_row.find_element(By.CSS_SELECTOR, 'span._ahx_').text\n",
    "                    except NoSuchElementException:\n",
    "                        phone_number = \"\"\n",
    "\n",
    "                    try:\n",
    "                        name = message_row.find_element(By.CSS_SELECTOR, 'span[dir=\"auto\"]._ahxy').text\n",
    "                    except NoSuchElementException:\n",
    "                        name = \"\"\n",
    "\n",
    "                    try:\n",
    "                        message_text = message_row.find_element(By.CSS_SELECTOR, '._akbu').text\n",
    "                    except NoSuchElementException:\n",
    "                        message_text = \"Unknown\"\n",
    "\n",
    "                    try:\n",
    "                        message_date = message_row.find_element(By.CSS_SELECTOR, '.x13yyeie.xx3o462').text\n",
    "                    except NoSuchElementException:\n",
    "                        message_date = \"\"\n",
    "\n",
    "                    if not message_text or message_text == \"Unknown\":\n",
    "                        continue\n",
    "\n",
    "                    message_id = f\"{chat_name}-{phone_number}-{message_text}-{message_date}\"\n",
    "                    Extract_Time_D = datetime.now().strftime('%d-%m-%Y %p')\n",
    "                    Extract_Time_T = datetime.now().strftime('%H:%M:%S')\n",
    "\n",
    "                    if message_id not in processed_messages:\n",
    "                        chat_data.append({\n",
    "                            \"Chat Name\": chat_name,\n",
    "                            \"Phone Number\": phone_number,\n",
    "                            \"Name\": name,\n",
    "                            \"Message\": message_text,\n",
    "                            \"Message_Date\": message_date,\n",
    "                            \"Extract-Day\": Extract_Time_D,\n",
    "                            \"Extract-Time\": Extract_Time_T\n",
    "                        })\n",
    "                        processed_messages.add(message_id)\n",
    "                        new_messages_found = True\n",
    "\n",
    "                if not new_messages_found:\n",
    "                    log_message(\"No new messages found in view. Scrolling up.\")\n",
    "                    scroll_attempts += 1\n",
    "                    driver.execute_script(\"arguments[0].scrollIntoView();\", chat_window)\n",
    "                    time.sleep(2)\n",
    "                else:\n",
    "                    scroll_attempts = 0\n",
    "\n",
    "            except StaleElementReferenceException:\n",
    "                log_message(\"Encountered a stale element. Retrying...\")\n",
    "                continue  # Retry the loop after refreshing element references\n",
    "\n",
    "            time.sleep(sleep_time)\n",
    "\n",
    "    except TimeoutException:\n",
    "        log_message(\"Timed out while waiting for chat window. Please check your connection or the chat structure.\")\n",
    "\n",
    "    except Exception as e:\n",
    "        log_message(f\"An error occurred during message extraction: {e}\")\n",
    "\n",
    "    return chat_data\n"
   ]
  },
  {
   "cell_type": "markdown",
   "id": "7c38dfe1",
   "metadata": {},
   "source": [
    "## Scrap Chat list"
   ]
  },
  {
   "cell_type": "code",
   "execution_count": 6,
   "id": "87a8ada5",
   "metadata": {},
   "outputs": [],
   "source": [
    "def Scrap(driver):\n",
    "    \"\"\"Scraping function based on your original logic.\"\"\"\n",
    "    try:\n",
    "        WebDriverWait(driver, 20).until(\n",
    "            EC.presence_of_element_located((By.CSS_SELECTOR, 'div.x1y332i5.x1n2onr6.x6ikm8r.x10wlt62[role=\"grid\"]'))\n",
    "        )\n",
    "        chat_list_container = driver.find_element(By.CSS_SELECTOR, 'div.x1y332i5.x1n2onr6.x6ikm8r.x10wlt62[role=\"grid\"]')\n",
    "        processed_chats = set()\n",
    "\n",
    "        output_dir = file_path_entry.get()\n",
    "        if os.path.isdir(output_dir):\n",
    "            output_file = os.path.join(output_dir, \"WhatsApp_Data.xlsx\")  # Add default file name\n",
    "        else:\n",
    "            output_file = output_dir  # Use user-provided file path\n",
    "\n",
    "        scroll_attempts = 0\n",
    "        no_unread_attempts = 0  # Counter for consecutive times no unread chats are found\n",
    "        sleep_time = get_sleep_time()\n",
    "        Chat_Num = get_chat_num()\n",
    "        \n",
    "        while scroll_attempts < 3:\n",
    "            chat_items = chat_list_container.find_elements(By.CSS_SELECTOR, 'div.x10l6tqk.xh8yej3.x1g42fcv[role=\"listitem\"]')\n",
    "            log_message(f\"Found {len(chat_items)} chat items.\")\n",
    "\n",
    "            unread_found = False  # Track if any unread messages are found in this iteration\n",
    "\n",
    "            for chat_item in chat_items:\n",
    "                try:\n",
    "                    ActionChains(driver).move_to_element(chat_item).perform()\n",
    "                    chat_name = chat_item.find_element(By.CSS_SELECTOR, 'div._ak8q span[title]').get_attribute(\"title\")\n",
    "                    log_message(f\"Chat Name - {chat_name}\")\n",
    "                except (NoSuchElementException, StaleElementReferenceException):\n",
    "                    log_message(\"Chat name not found or not interactable. Skipping...\")\n",
    "                    continue\n",
    "\n",
    "                if chat_name in processed_chats:\n",
    "                    log_message(f\"Chat '{chat_name}' already processed. Skipping...\")\n",
    "                    continue\n",
    "\n",
    "                try:\n",
    "                    unread_count = int(chat_item.find_element(By.CSS_SELECTOR, 'div._ahlk span.x1rg5ohu').text)\n",
    "                except Exception:\n",
    "                    unread_count = 0\n",
    "                    log_message(f\"No unread messages for {chat_name}.\")\n",
    "\n",
    "                if unread_count > 0:\n",
    "                    unread_found = True\n",
    "                    no_unread_attempts = 0  # Reset the counter as we found unread messages\n",
    "                    print(f\"Clicking on chat '{chat_name}'...\")\n",
    "\n",
    "                    try:\n",
    "                        chat_item.click()\n",
    "                    except ElementClickInterceptedException:\n",
    "                        print(f\"Scroll adjustment needed to click on '{chat_name}'. Scrolling...\")\n",
    "                        ActionChains(driver).move_to_element(chat_item).click().perform()\n",
    "\n",
    "                    WebDriverWait(driver, 20).until(\n",
    "                        EC.presence_of_element_located((By.CSS_SELECTOR, 'div.x3psx0u.xwib8y2.xkhd6sd.xrmvbpv'))\n",
    "                    )\n",
    "                    print(f\"Chat '{chat_name}' opened successfully.\")\n",
    "\n",
    "                    chat_data = extract_messages(driver, chat_name, unread_count)\n",
    "                    save_to_excel(chat_data, output_file)\n",
    "                    processed_chats.add(chat_name)\n",
    "                    driver.back()\n",
    "                    WebDriverWait(driver, 20).until(\n",
    "                        EC.presence_of_element_located((By.CSS_SELECTOR, 'div.x1y332i5.x1n2onr6.x6ikm8r.x10wlt62[role=\"grid\"]'))\n",
    "                    )\n",
    "                if len(processed_chats) >= Chat_Num:\n",
    "                    log_message(\"finish all Chats\")\n",
    "                    break\n",
    "                           \n",
    "            if len(processed_chats) >= Chat_Num:\n",
    "                log_message(\"finish all Chats\")\n",
    "                break\n",
    "            # If no unread chats are found in this iteration, increment the counter\n",
    "            if not unread_found:\n",
    "                no_unread_attempts += 1\n",
    "                log_message(f\"No unread chats found. Attempt {no_unread_attempts}/5.\")\n",
    "                driver.execute_script(\"arguments[0].scrollTop = arguments[0].scrollTop + arguments[0].offsetHeight;\", chat_list_container)\n",
    "                time.sleep(sleep_time)\n",
    "\n",
    "            if no_unread_attempts >= 5:\n",
    "                log_message(\"No unread chats found for 5 consecutive attempts. Stopping scraping.\")\n",
    "                break\n",
    "\n",
    "            time.sleep(sleep_time)\n",
    "\n",
    "    except Exception as e:\n",
    "        log_message(f\"An error occurred while scraping: {e}\")\n"
   ]
  },
  {
   "cell_type": "markdown",
   "id": "0629e82b",
   "metadata": {},
   "source": [
    "## Save Excel"
   ]
  },
  {
   "cell_type": "code",
   "execution_count": 7,
   "id": "9c0dd8b3",
   "metadata": {},
   "outputs": [],
   "source": [
    "def save_to_excel(data, filename):\n",
    "    if not os.path.exists(filename):\n",
    "        pd.DataFrame(data).to_excel(filename, index=False)\n",
    "    else:\n",
    "        existing_df = pd.read_excel(filename)\n",
    "        new_df = pd.DataFrame(data)\n",
    "        updated_df = pd.concat([existing_df, new_df], ignore_index=True)\n",
    "        updated_df.to_excel(filename, index=False)\n",
    "    log_message(f\"Data saved to {filename}\")\n"
   ]
  },
  {
   "cell_type": "markdown",
   "id": "e08e9dd4",
   "metadata": {},
   "source": [
    "## Logs"
   ]
  },
  {
   "cell_type": "code",
   "execution_count": 8,
   "id": "79c5d36b",
   "metadata": {},
   "outputs": [],
   "source": [
    "def log_message(message):\n",
    "    log_text.insert(tk.END, message + \"\\n\")\n",
    "    log_text.see(tk.END)\n"
   ]
  },
  {
   "cell_type": "markdown",
   "id": "470c935a",
   "metadata": {},
   "source": [
    "## Browser Button "
   ]
  },
  {
   "cell_type": "code",
   "execution_count": 9,
   "id": "c8f7c093",
   "metadata": {},
   "outputs": [],
   "source": [
    "def browse_path():\n",
    "    selected_path = filedialog.askdirectory()\n",
    "    if selected_path:\n",
    "        file_path_entry.delete(0, tk.END)\n",
    "        file_path_entry.insert(0, selected_path)"
   ]
  },
  {
   "cell_type": "markdown",
   "id": "f49f5004",
   "metadata": {},
   "source": [
    "## Start Button"
   ]
  },
  {
   "cell_type": "code",
   "execution_count": 10,
   "id": "6286da65",
   "metadata": {},
   "outputs": [],
   "source": [
    "def start_scraping_thread():\n",
    "    global is_scraping\n",
    "    if not driver:\n",
    "        messagebox.showerror(\"Error\", \"Please log in to WhatsApp first!\")\n",
    "        return\n",
    "    if is_scraping:\n",
    "        messagebox.showinfo(\"Info\", \"Scraping is already in progress.\")\n",
    "        return\n",
    "    is_scraping = True\n",
    "    try:\n",
    "        driver.execute_script(\"document.body.style.zoom='50%'\")\n",
    "        Thread(target=Scrap, args=(driver,)).start()\n",
    "    except AttributeError:\n",
    "        messagebox.showerror(\"Error\", \"WebDriver is not initialized. Please log in first.\")\n",
    "        is_scraping = False\n"
   ]
  },
  {
   "cell_type": "markdown",
   "id": "ec45902c",
   "metadata": {},
   "source": [
    "## Stop Button"
   ]
  },
  {
   "cell_type": "code",
   "execution_count": 11,
   "id": "502bec98",
   "metadata": {},
   "outputs": [],
   "source": [
    "def stop_scraping():\n",
    "    global driver, is_scraping\n",
    "    if driver:\n",
    "        driver.quit()\n",
    "        driver = None\n",
    "    is_scraping = False\n",
    "    log_message(\"Browser closed.\")\n"
   ]
  },
  {
   "cell_type": "markdown",
   "id": "9b2b2aa0",
   "metadata": {},
   "source": [
    "## Open Whatsapp Button"
   ]
  },
  {
   "cell_type": "code",
   "execution_count": 12,
   "id": "2fece015",
   "metadata": {},
   "outputs": [],
   "source": [
    "def open_whatsapp_login():\n",
    "    global driver\n",
    "    \n",
    "    user_data_dir = os.path.join(os.path.expanduser('~'), 'User_Data')\n",
    "    options = webdriver.ChromeOptions()\n",
    "    service = Service()\n",
    "    os.makedirs(user_data_dir, exist_ok=True)\n",
    "    options.add_argument(f\"user-data-dir={user_data_dir}\")\n",
    "    driver = webdriver.Chrome(service=service, options=options)\n",
    "    driver.get(\"https://web.whatsapp.com/\")\n",
    "    log_message(\"Please log in to WhatsApp Web.\")"
   ]
  },
  {
   "cell_type": "code",
   "execution_count": 13,
   "id": "e404f557",
   "metadata": {},
   "outputs": [],
   "source": [
    "## Chat_Num Box"
   ]
  },
  {
   "cell_type": "code",
   "execution_count": 14,
   "id": "0d01e6c5",
   "metadata": {},
   "outputs": [],
   "source": [
    "def get_chat_num():\n",
    "    try:\n",
    "        Chat_Num = int(Chat_Num_entry.get())\n",
    "        return Chat_Num\n",
    "    except ValueError:\n",
    "        messagebox.showerror(\"Error\", \"Please enter a valid number for chat .\")\n",
    "        return 2  "
   ]
  },
  {
   "cell_type": "markdown",
   "id": "897ac576",
   "metadata": {},
   "source": [
    "## Timer Box"
   ]
  },
  {
   "cell_type": "code",
   "execution_count": 15,
   "id": "216a700f",
   "metadata": {},
   "outputs": [],
   "source": [
    "def get_sleep_time():\n",
    "    try:\n",
    "        sleep_time = int(sleep_time_entry.get())\n",
    "        return sleep_time\n",
    "    except ValueError:\n",
    "        messagebox.showerror(\"Error\", \"Please enter a valid number for sleep time.\")\n",
    "        return 2  "
   ]
  },
  {
   "cell_type": "markdown",
   "id": "1b976863",
   "metadata": {},
   "source": [
    "## Frame design"
   ]
  },
  {
   "cell_type": "code",
   "execution_count": 16,
   "id": "73bf8b56",
   "metadata": {},
   "outputs": [],
   "source": [
    "def create_rounded_frame(parent, text):\n",
    "    frame = tk.Frame(parent, bg=\"#ffffff\", highlightthickness=2, highlightbackground=\"#e2e8f0\", padx=10, pady=10)\n",
    "    label = tk.Label(frame, text=text, font=(\"Helvetica\", 10), bg=\"#ffffff\", fg=\"#4a5568\")\n",
    "    label.pack(anchor=\"w\", padx=10)\n",
    "    return frame"
   ]
  },
  {
   "cell_type": "markdown",
   "id": "9973944c",
   "metadata": {},
   "source": [
    "## GUI"
   ]
  },
  {
   "cell_type": "code",
   "execution_count": 17,
   "id": "d1683930",
   "metadata": {},
   "outputs": [],
   "source": [
    "root = tk.Tk()\n",
    "root.title(\"SBS Tool\")\n",
    "root.geometry(\"700x270\")\n",
    "root.configure(bg=\"#f8f9fa\")\n",
    "##root.iconbitmap(\"C:\\\\Users\\\\Khaled\\\\Desktop\\\\sbs_logo.ico\")\n",
    "\n",
    "\n",
    "window_width = 700\n",
    "window_height = 270\n",
    "\n",
    "# width and height\n",
    "screen_width = root.winfo_screenwidth()\n",
    "screen_height = root.winfo_screenheight()\n",
    "\n",
    "\n",
    "x = (screen_width // 2) - (window_width // 2)\n",
    "y = (screen_height // 2) - (window_height // 2)\n",
    "\n",
    "\n",
    "root.geometry(f\"{window_width}x{window_height}+{x}+{y}\")\n",
    "root.resizable(False, False)  # Lock the window\n",
    "\n",
    "# ##Header\n",
    "header = tk.Label(root, text=\"SBS Whatsapp Tool \", font=(\"Helvetica\", 15, \"bold\"), bg=\"#f8f9fa\", fg=\"#3b82f6\")\n",
    "header.pack(pady=10)\n",
    "\n",
    "# Login Frame\n",
    "login_frame = create_rounded_frame(root, \"Login\")\n",
    "login_frame.pack(padx=20, pady=10, fill=\"x\")\n",
    "\n",
    "username_entry = ttk.Entry(login_frame, width=40)\n",
    "username_entry.pack(pady=5, ipady=4)\n",
    "password_entry = ttk.Entry(login_frame, show=\"*\", width=40)\n",
    "password_entry.pack(pady=5, ipady=4)\n",
    "login_button = tk.Button(login_frame, text=\"Login\", command=verify_login, bg=\"#3b82f6\", fg=\"white\", padx=20)\n",
    "login_button.pack(pady=10)\n",
    "\n",
    "# Scraper Frame\n",
    "scraper_frame = tk.Frame(root, bg=\"#ffffff\")\n",
    "scraper_frame.pack(padx=20, pady=10, fill=\"both\", expand=True)\n",
    "\n",
    "# Configure the grid layout\n",
    "scraper_frame.grid_columnconfigure(0, weight=1)\n",
    "scraper_frame.grid_columnconfigure(1, weight=1)\n",
    "scraper_frame.grid_columnconfigure(2, weight=1)\n",
    "scraper_frame.grid_columnconfigure(4, weight=1)\n",
    "\n",
    "scraper_frame.pack_forget()\n",
    "\n",
    "file_path_label = tk.Label(scraper_frame, text=\"Save File Path:\", bg=\"#ffffff\", font=(\"Helvetica\", 10))\n",
    "file_path_label.grid(row=0, column=0, padx=5, pady=5, sticky=\"w\")\n",
    "\n",
    "file_path_entry = ttk.Entry(scraper_frame, width=40)\n",
    "file_path_entry.grid(row=0, column=1, padx=5, pady=5, sticky=\"w\")\n",
    "\n",
    "browse_button = tk.Button(scraper_frame, text=\"Browse\", command=browse_path, bg=\"#3b82f6\", fg=\"white\")\n",
    "browse_button.grid(row=0, column=2, padx=5, pady=5, sticky=\"w\")\n",
    "\n",
    "\n",
    "sleep_time_label = tk.Label(scraper_frame, text=\"Sleep Time (seconds):\", bg=\"#ffffff\")\n",
    "sleep_time_label.grid(row=1, column=0, padx=5, pady=5, sticky=\"w\")\n",
    "\n",
    "sleep_time_entry = ttk.Entry(scraper_frame, width=10)\n",
    "sleep_time_entry.grid(row=1, column=1, padx=5, pady=5, sticky=\"w\")\n",
    "sleep_time_entry.insert(0, \"2\")\n",
    "\n",
    "\n",
    "Chat_Num_label = tk.Label(scraper_frame, text=\"Chat Num:\", bg=\"#ffffff\")\n",
    "Chat_Num_label.grid(row=1, column=3, padx=5, pady=5,sticky=\"w\")\n",
    "\n",
    "Chat_Num_entry = ttk.Entry(scraper_frame, width=10)\n",
    "Chat_Num_entry.grid(row=1, column=4, padx=5, pady=5)\n",
    "Chat_Num_entry.insert(0, \"2\")\n",
    "\n",
    "\n",
    "login_button_scraper = tk.Button(scraper_frame, text=\"Log in to WhatsApp\", command=open_whatsapp_login, bg=\"#34c759\", fg=\"white\")\n",
    "login_button_scraper.grid(row=2, column=0, padx=5, pady=5, sticky=\"w\")\n",
    "\n",
    "start_button = tk.Button(scraper_frame, text=\"Start\", command=start_scraping_thread, bg=\"#34c759\", fg=\"white\")\n",
    "start_button.grid(row=2, column=1, padx=5, pady=5, sticky=\"w\")\n",
    "\n",
    "stop_button = tk.Button(scraper_frame, text=\"Stop\", command=stop_scraping, bg=\"#ff3b30\", fg=\"white\")\n",
    "stop_button.grid(row=2, column=2, padx=5, pady=5, sticky=\"w\")\n",
    "\n",
    "log_text = tk.Text(scraper_frame, height=15, wrap=\"word\", bg=\"#f1f5f9\")\n",
    "log_text.grid(row=3, column=0, columnspan=5, padx=5, pady=10, sticky=\"nsew\")\n",
    "\n",
    "scraper_frame.grid_rowconfigure(3, weight=1)\n"
   ]
  },
  {
   "cell_type": "markdown",
   "id": "6b90f0dd",
   "metadata": {},
   "source": [
    "## Run GUI"
   ]
  },
  {
   "cell_type": "code",
   "execution_count": null,
   "id": "d10ed9a3",
   "metadata": {},
   "outputs": [
    {
     "name": "stderr",
     "output_type": "stream",
     "text": [
      "The chromedriver version (130.0.6723.91) detected in PATH at chromedriver.EXE might not be compatible with the detected chrome version (131.0.6778.86); currently, chromedriver 131.0.6778.87 is recommended for chrome 131.*, so it is advised to delete the driver in PATH and retry\n"
     ]
    }
   ],
   "source": [
    "root.mainloop()\n"
   ]
  },
  {
   "cell_type": "code",
   "execution_count": null,
   "id": "c3549a1a",
   "metadata": {},
   "outputs": [],
   "source": []
  }
 ],
 "metadata": {
  "kernelspec": {
   "display_name": "Python 3 (ipykernel)",
   "language": "python",
   "name": "python3"
  },
  "language_info": {
   "codemirror_mode": {
    "name": "ipython",
    "version": 3
   },
   "file_extension": ".py",
   "mimetype": "text/x-python",
   "name": "python",
   "nbconvert_exporter": "python",
   "pygments_lexer": "ipython3",
   "version": "3.11.4"
  }
 },
 "nbformat": 4,
 "nbformat_minor": 5
}
